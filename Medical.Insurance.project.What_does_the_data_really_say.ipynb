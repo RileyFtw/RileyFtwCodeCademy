{
 "cells": [
  {
   "cell_type": "code",
   "execution_count": 3,
   "id": "248d83c9-9544-4795-b3a6-5ee91f331229",
   "metadata": {},
   "outputs": [],
   "source": [
    "import csv"
   ]
  },
  {
   "cell_type": "code",
   "execution_count": 4,
   "id": "ca1de812-c59c-4b87-8976-cd7855dd9e2c",
   "metadata": {},
   "outputs": [],
   "source": [
    "insurance_data = []\n",
    "with open('insurance.csv') as insurance_csv:\n",
    "    insurance_reader = csv.DictReader(insurance_csv, delimiter = ',')\n",
    "    for row in insurance_reader:\n",
    "        insurance_data.append(row)"
   ]
  },
  {
   "cell_type": "code",
   "execution_count": null,
   "id": "669a4dc1-d32b-417f-b566-dce71d1040bd",
   "metadata": {
    "scrolled": true
   },
   "outputs": [],
   "source": [
    "insurance_data.pop(-1)"
   ]
  },
  {
   "cell_type": "code",
   "execution_count": 13,
   "id": "30179dfc-8dbd-40b6-bfd8-1f64669df5d0",
   "metadata": {},
   "outputs": [
    {
     "name": "stdout",
     "output_type": "stream",
     "text": [
      "Minimum age: 18\n",
      "Maximum age: 64\n",
      "Median age: 39.0\n",
      "Average age: 39.21\n"
     ]
    }
   ],
   "source": [
    "import statistics\n",
    "\n",
    "# Extract 'age' values from the list of dictionaries\n",
    "ages = [int(person['age']) for person in insurance_data]\n",
    "\n",
    "# Calculate the minimum, maximum, median, and average age\n",
    "min_age = min(ages)\n",
    "max_age = max(ages)\n",
    "median_age = statistics.median(ages)\n",
    "avg_age = round(sum(ages) / len(ages), 2)\n",
    "\n",
    "print(\"Minimum age:\", min_age)\n",
    "print(\"Maximum age:\", max_age)\n",
    "print(\"Median age:\", median_age)\n",
    "print(\"Average age:\", avg_age)"
   ]
  },
  {
   "cell_type": "code",
   "execution_count": 14,
   "id": "89583c04-7235-40e5-822c-38258e18e97c",
   "metadata": {},
   "outputs": [
    {
     "name": "stdout",
     "output_type": "stream",
     "text": [
      "Male count: 676\n",
      "Female count: 662\n",
      "Ratio (Males : Females): 1.02\n"
     ]
    }
   ],
   "source": [
    "# Initialize counters for males and females\n",
    "male_count = 0\n",
    "female_count = 0\n",
    "\n",
    "# Count the occurrences of males and females\n",
    "for person in insurance_data:\n",
    "    if person['sex'] == 'male':\n",
    "        male_count += 1\n",
    "    if person['sex'] == 'female':\n",
    "        female_count += 1\n",
    "\n",
    "# Calculating the ratio between males and females\n",
    "if female_count == 0:\n",
    "    ratio = 'infinity'\n",
    "else:\n",
    "    fm_ratio = round(male_count / female_count, 2)\n",
    "\n",
    "print(\"Male count:\", male_count)\n",
    "print(\"Female count:\", female_count)\n",
    "print(\"Ratio (Males : Females):\", fm_ratio)"
   ]
  },
  {
   "cell_type": "code",
   "execution_count": 15,
   "id": "530c8203-6866-44b8-b352-69311f3e0870",
   "metadata": {},
   "outputs": [
    {
     "name": "stdout",
     "output_type": "stream",
     "text": [
      "Minimum BMI: 15.96\n",
      "Maximum BMI: 53.13\n",
      "Median BMI: 30.4\n",
      "Average BMI: 30.66\n"
     ]
    }
   ],
   "source": [
    "# Extract 'bmi' values from the list of dictionaries\n",
    "bmis = [float(person['bmi']) for person in insurance_data]\n",
    "\n",
    "# Calculate the minimum, maximum, median, and average BMI\n",
    "min_bmi = min(bmis)\n",
    "max_bmi = max(bmis)\n",
    "median_bmi = statistics.median(bmis)\n",
    "avg_bmi = round(sum(bmis) / len(bmis), 2)\n",
    "\n",
    "print(\"Minimum BMI:\", min_bmi)\n",
    "print(\"Maximum BMI:\", max_bmi)\n",
    "print(\"Median BMI:\", median_bmi)\n",
    "print(\"Average BMI:\", avg_bmi)"
   ]
  },
  {
   "cell_type": "code",
   "execution_count": 16,
   "id": "eb14af82-f549-445b-b295-70921f253ea4",
   "metadata": {},
   "outputs": [
    {
     "name": "stdout",
     "output_type": "stream",
     "text": [
      "Ratio of people with 1-5 children to those with 0 children: 1.33\n"
     ]
    }
   ],
   "source": [
    "# Initialize counts for people with 0 children and people with 1-5 children\n",
    "count_0_children = 0\n",
    "count_1_to_5_children = 0\n",
    "\n",
    "# Iterate through the insurance data\n",
    "for person in insurance_data:\n",
    "    num_children = int(person['children'])\n",
    "    if num_children == 0:\n",
    "        count_0_children += 1\n",
    "    elif 1 <= num_children <= 5:\n",
    "        count_1_to_5_children += 1\n",
    "\n",
    "# Calculate the ratio\n",
    "if count_0_children > 0:\n",
    "    ratio_1_to_5_to_0 = round(count_1_to_5_children / count_0_children, 2)\n",
    "else:\n",
    "    ratio_1_to_5_to_0 = 0\n",
    "\n",
    "print(\"Ratio of people with 1-5 children to those with 0 children:\", ratio_1_to_5_to_0)"
   ]
  },
  {
   "cell_type": "code",
   "execution_count": 17,
   "id": "05a2e5c2-9034-4efe-ad2f-d5c275e00383",
   "metadata": {},
   "outputs": [
    {
     "name": "stdout",
     "output_type": "stream",
     "text": [
      "Smoker count: 274\n",
      "Non-Smoker count: 1064\n",
      "Ratio (Non-Smoker : Smoker): 3.88\n"
     ]
    }
   ],
   "source": [
    "# Initialize counters for smokers and non-smokers\n",
    "smoker_count = 0\n",
    "non_smoker_count = 0\n",
    "\n",
    "# Count the occurrences of smokers and non-smokers\n",
    "for person in insurance_data:\n",
    "    if person['smoker'] == 'yes':\n",
    "        smoker_count += 1\n",
    "    if person['smoker'] == 'no':\n",
    "        non_smoker_count += 1\n",
    "\n",
    "# Calculating the ratio between Non-Smokers and Smokers\n",
    "if non_smoker_count == 0:\n",
    "    ratio = 'infinity'\n",
    "else:\n",
    "    sns_ratio = round(non_smoker_count / smoker_count, 2)\n",
    "\n",
    "print(\"Smoker count:\", smoker_count)\n",
    "print(\"Non-Smoker count:\", non_smoker_count)\n",
    "print(\"Ratio (Non-Smoker : Smoker):\", sns_ratio)"
   ]
  },
  {
   "cell_type": "code",
   "execution_count": 18,
   "id": "bff84547-d529-433b-9942-9326ced9cfb5",
   "metadata": {},
   "outputs": [
    {
     "name": "stdout",
     "output_type": "stream",
     "text": [
      "southwest : Count: 325, Ratio: 0.24\n",
      "southeast : Count: 364, Ratio: 0.27\n",
      "northwest : Count: 325, Ratio: 0.24\n",
      "northeast : Count: 324, Ratio: 0.24\n"
     ]
    }
   ],
   "source": [
    "# Initialize a dictionary to store the count of each region\n",
    "region_counts = {}\n",
    "\n",
    "# Iterate over the list of dictionaries\n",
    "for person in insurance_data:\n",
    "    # Get the region from the current dictionary\n",
    "    region = person['region']\n",
    "    \n",
    "    # If the region is not already recorded, initialize its count to 1\n",
    "    if region not in region_counts:\n",
    "        region_counts[region] = 1\n",
    "    # If the region is already recorded, increment its count\n",
    "    else:\n",
    "        region_counts[region] += 1\n",
    "\n",
    "# Calculate the total count of all regions\n",
    "total_count = sum(region_counts.values())\n",
    "\n",
    "# Print the count and ratio of each region relative to the total count\n",
    "for region, count in region_counts.items():\n",
    "    ratio = count / total_count\n",
    "    print(f\"{region} : Count: {count}, Ratio: {ratio:.2f}\")"
   ]
  },
  {
   "cell_type": "code",
   "execution_count": 28,
   "id": "2ecbe7ee-30db-47fe-95c8-d5f528c574e5",
   "metadata": {},
   "outputs": [
    {
     "name": "stdout",
     "output_type": "stream",
     "text": [
      "Minimum charges: 1121.87\n",
      "Maximum charges: 63770.43\n",
      "Average charges: 13270.42\n",
      "Median charges: 9382.03\n"
     ]
    }
   ],
   "source": [
    "# Extract 'charges' values from the list of dictionaries\n",
    "charges = [float(person['charges']) for person in insurance_data]\n",
    "\n",
    "# Calculate the minimum, maximum, average, and median charges\n",
    "min_charges = round(min(charges), 2)\n",
    "max_charges = round(max(charges), 2)\n",
    "avg_charges = round(sum(charges) / len(charges), 2)\n",
    "median_charges = round(statistics.median(charges), 2)\n",
    "\n",
    "print(\"Minimum charges:\", min_charges)\n",
    "print(\"Maximum charges:\", max_charges)\n",
    "print(\"Average charges:\", avg_charges)\n",
    "print(\"Median charges:\", median_charges)"
   ]
  },
  {
   "cell_type": "code",
   "execution_count": 20,
   "id": "2d079820-a1db-454f-a989-89c060c5e783",
   "metadata": {},
   "outputs": [
    {
     "name": "stdout",
     "output_type": "stream",
     "text": [
      "Average charges for age range 15-24 : 9011.34\n",
      "Average charges for age range 25-34 : 10352.39\n",
      "Average charges for age range 35-44 : 13134.17\n",
      "Average charges for age range 45-54 : 15853.93\n",
      "Average charges for age range 55-64 : 18513.28\n"
     ]
    }
   ],
   "source": [
    "# Initialize dictionaries to store charges and counts for each age range\n",
    "charges_by_age_range = {'15-24': [], '25-34': [], '35-44': [], '45-54': [], '55-64': []}\n",
    "counts_by_age_range = {'15-24': 0, '25-34': 0, '35-44': 0, '45-54': 0, '55-64': 0}\n",
    "\n",
    "# Categorize individuals into their respective age ranges and record charges\n",
    "for person in insurance_data:\n",
    "    age = int(person['age'])\n",
    "    charges = float(person['charges'])  # Convert charges to float\n",
    "    \n",
    "    if 15 <= age <= 24:\n",
    "        charges_by_age_range['15-24'].append(charges)\n",
    "        counts_by_age_range['15-24'] += 1\n",
    "    elif 25 <= age <= 34:\n",
    "        charges_by_age_range['25-34'].append(charges)\n",
    "        counts_by_age_range['25-34'] += 1\n",
    "    elif 35 <= age <= 44:\n",
    "        charges_by_age_range['35-44'].append(charges)\n",
    "        counts_by_age_range['35-44'] += 1\n",
    "    elif 45 <= age <= 54:\n",
    "        charges_by_age_range['45-54'].append(charges)\n",
    "        counts_by_age_range['45-54'] += 1\n",
    "    elif 55 <= age <= 64:\n",
    "        charges_by_age_range['55-64'].append(charges)\n",
    "        counts_by_age_range['55-64'] += 1\n",
    "\n",
    "# Calculate the average charges for each age range\n",
    "avg_charges_by_age_range = {}\n",
    "for age_range, charges_list in charges_by_age_range.items():\n",
    "    total_charges = sum(charges_list)\n",
    "    count = counts_by_age_range[age_range]\n",
    "    if count != 0:\n",
    "        avg_charges_by_age_range[age_range] = round(total_charges / count, 2)\n",
    "    else:\n",
    "        avg_charges_by_age_range[age_range] = 0\n",
    "\n",
    "# Print the average charges for each age range\n",
    "for age_range, avg_charges in avg_charges_by_age_range.items():\n",
    "    print(\"Average charges for age range\", age_range, \":\", avg_charges)"
   ]
  },
  {
   "cell_type": "code",
   "execution_count": 21,
   "id": "56a5d58e-6231-47b0-b0ca-a81a1f2c2e9d",
   "metadata": {},
   "outputs": [
    {
     "name": "stdout",
     "output_type": "stream",
     "text": [
      "Average charges for BMI range 15-24: 9598.32\n",
      "Average charges for BMI range 25-34: 12402.73\n",
      "Average charges for BMI range 35-44: 16994.67\n",
      "Average charges for BMI range 45-54: 17547.93\n"
     ]
    }
   ],
   "source": [
    "# Initialize dictionaries to store charges and counts for each BMI range\n",
    "charges_by_bmi_range = {'15-24': [], '25-34': [], '35-44': [], '45-54': []}\n",
    "counts_by_bmi_range = {'15-24': 0, '25-34': 0, '35-44': 0, '45-54': 0}\n",
    "\n",
    "# Categorize individuals into their respective BMI ranges and record charges\n",
    "for person in insurance_data:\n",
    "    bmi = float(person['bmi'])\n",
    "    charges = float(person['charges'])\n",
    "    \n",
    "    if 15 <= bmi <= 24:\n",
    "        charges_by_bmi_range['15-24'].append(charges)\n",
    "        counts_by_bmi_range['15-24'] += 1\n",
    "    elif 25 <= bmi <= 34:\n",
    "        charges_by_bmi_range['25-34'].append(charges)\n",
    "        counts_by_bmi_range['25-34'] += 1\n",
    "    elif 35 <= bmi <= 44:\n",
    "        charges_by_bmi_range['35-44'].append(charges)\n",
    "        counts_by_bmi_range['35-44'] += 1\n",
    "    elif 45 <= bmi <= 54:\n",
    "        charges_by_bmi_range['45-54'].append(charges)\n",
    "        counts_by_bmi_range['45-54'] += 1\n",
    "\n",
    "# Calculate the average charges for each BMI range\n",
    "avg_charges_by_bmi_range = {}\n",
    "for bmi_range, charges_list in charges_by_bmi_range.items():\n",
    "    total_charges = sum(charges_list)\n",
    "    count = counts_by_bmi_range[bmi_range]\n",
    "    if count != 0:\n",
    "        avg_charges_by_bmi_range[bmi_range] = round(total_charges / count, 2)\n",
    "    else:\n",
    "        avg_charges_by_bmi_range[bmi_range] = 0\n",
    "\n",
    "# Print the average charges for each BMI range\n",
    "for bmi_range, avg_charges in avg_charges_by_bmi_range.items():\n",
    "    print(f\"Average charges for BMI range {bmi_range}: {avg_charges}\")"
   ]
  },
  {
   "cell_type": "code",
   "execution_count": 22,
   "id": "c12e641b-dff9-4703-96c3-dded30d42865",
   "metadata": {},
   "outputs": [
    {
     "name": "stdout",
     "output_type": "stream",
     "text": [
      "Average charges for males: 13956.75\n",
      "Average charges for females: 12569.58\n",
      "The average percentage increase in charges for males compared to females is: 11.04%\n"
     ]
    }
   ],
   "source": [
    "# Initialize variables to store total charges for males and females\n",
    "total_charges_male = 0\n",
    "total_charges_female = 0\n",
    "\n",
    "# Calculate total charges and counts for males and females\n",
    "count_male = 0\n",
    "count_female = 0\n",
    "for person in insurance_data:\n",
    "    charges = float(person['charges'])  # Convert charges to float\n",
    "    if person['sex'] == 'male':\n",
    "        total_charges_male += charges\n",
    "        count_male += 1\n",
    "    else:\n",
    "        total_charges_female += charges\n",
    "        count_female += 1\n",
    "\n",
    "# Calculate average charges for males and females\n",
    "avg_charges_male = round(total_charges_male / count_male, 2) if count_male != 0 else 0\n",
    "avg_charges_female = round(total_charges_female / count_female, 2) if count_female != 0 else 0\n",
    "\n",
    "# Calculate the average percentage increase in charges for males compared to females\n",
    "avg_percentage_increase = ((avg_charges_male - avg_charges_female) / avg_charges_female) * 100\n",
    "\n",
    "print(\"Average charges for males:\", avg_charges_male)\n",
    "print(\"Average charges for females:\", avg_charges_female)\n",
    "print(f\"The average percentage increase in charges for males compared to females is: {avg_percentage_increase:.2f}%\")"
   ]
  },
  {
   "cell_type": "code",
   "execution_count": 23,
   "id": "2ef297de-35ff-4cf2-9784-1aad921ea79a",
   "metadata": {},
   "outputs": [
    {
     "name": "stdout",
     "output_type": "stream",
     "text": [
      "Average charges per child for 0 children: 12365.98\n",
      "Average charges per child for 1 children: 12731.17\n",
      "Average charges per child for 2 children: 15073.56\n",
      "Average charges per child for 3 children: 15355.32\n",
      "Average charges per child for 4 children: 13850.66\n",
      "Average charges per child for 5 children: 8786.04\n"
     ]
    }
   ],
   "source": [
    "# Initialize dictionaries to store charges and counts for each number of children\n",
    "charges_by_children = {'0': [], '1': [], '2': [], '3': [], '4': [], '5': []}\n",
    "counts_by_children = {'0': 0, '1': 0, '2': 0, '3': 0, '4': 0, '5': 0}\n",
    "\n",
    "# Categorize individuals into their respective number of children and record charges\n",
    "for person in insurance_data:\n",
    "    num_children = person['children']\n",
    "    charges = float(person['charges'])\n",
    "    \n",
    "    if num_children == '0':\n",
    "        charges_by_children['0'].append(charges)\n",
    "        counts_by_children['0'] += 1\n",
    "    elif num_children == '1':\n",
    "        charges_by_children['1'].append(charges)\n",
    "        counts_by_children['1'] += 1\n",
    "    elif num_children == '2':\n",
    "        charges_by_children['2'].append(charges)\n",
    "        counts_by_children['2'] += 1\n",
    "    elif num_children == '3':\n",
    "        charges_by_children['3'].append(charges)\n",
    "        counts_by_children['3'] += 1\n",
    "    elif num_children == '4':\n",
    "        charges_by_children['4'].append(charges)\n",
    "        counts_by_children['4'] += 1\n",
    "    elif num_children == '5':\n",
    "        charges_by_children['5'].append(charges)\n",
    "        counts_by_children['5'] += 1\n",
    "\n",
    "# Calculate the average charges per child for each number of children\n",
    "avg_charges_by_children = {}\n",
    "for num_children, charges_list in charges_by_children.items():\n",
    "    total_charges = sum(charges_list)\n",
    "    count = counts_by_children[num_children]\n",
    "    if count != 0:\n",
    "        avg_charges_by_children[num_children] = round(total_charges / count, 2)\n",
    "    else:\n",
    "        avg_charges_by_children[num_children] = 0\n",
    "\n",
    "# Print the average charges per child for each number of children\n",
    "for num_children, avg_charges in avg_charges_by_children.items():\n",
    "    print(f\"Average charges per child for {num_children} children: {avg_charges}\")"
   ]
  },
  {
   "cell_type": "code",
   "execution_count": 24,
   "id": "999db271-dfbf-4842-9b70-d896dbef667e",
   "metadata": {},
   "outputs": [
    {
     "name": "stdout",
     "output_type": "stream",
     "text": [
      "Average charges for smokers: 32050.23\n",
      "Average charges for non-smokers: 8434.27\n",
      "Average percentage increase in charges for smokers compared to non-smokers: 280.00%\n"
     ]
    }
   ],
   "source": [
    "# Initialize dictionaries to store charges and counts for smokers and non-smokers\n",
    "charges_by_smoker = {'yes': [], 'no': []}\n",
    "counts_by_smoker = {'yes': 0, 'no': 0}\n",
    "\n",
    "# Categorize individuals into smokers and non-smokers and record charges\n",
    "for person in insurance_data:\n",
    "    smoker = person['smoker']\n",
    "    charges = float(person['charges'])\n",
    "    \n",
    "    charges_by_smoker[smoker].append(charges)\n",
    "    counts_by_smoker[smoker] += 1\n",
    "\n",
    "# Calculate the average charges for smokers and non-smokers\n",
    "avg_charges_by_smoker = {}\n",
    "for smoker, charges_list in charges_by_smoker.items():\n",
    "    total_charges = sum(charges_list)\n",
    "    count = counts_by_smoker[smoker]\n",
    "    if count != 0:\n",
    "        avg_charges_by_smoker[smoker] = round(total_charges / count, 2)\n",
    "    else:\n",
    "        avg_charges_by_smoker[smoker] = 0\n",
    "\n",
    "# Print the average charges for smokers and non-smokers\n",
    "for smoker, avg_charges in avg_charges_by_smoker.items():\n",
    "    print(f\"Average charges for {'smokers' if smoker == 'yes' else 'non-smokers'}: {avg_charges}\")\n",
    "\n",
    "# Calculate the average percentage increase in charges for smokers compared to non-smokers\n",
    "percentage_increase_smokers = ((avg_charges_by_smoker['yes'] - avg_charges_by_smoker['no']) / avg_charges_by_smoker['no']) * 100\n",
    "\n",
    "print(f\"Average percentage increase in charges for smokers compared to non-smokers: {percentage_increase_smokers:.2f}%\")"
   ]
  },
  {
   "cell_type": "code",
   "execution_count": 25,
   "id": "d07e84f6-58e9-4efd-ba0c-96ccb7051597",
   "metadata": {},
   "outputs": [
    {
     "name": "stdout",
     "output_type": "stream",
     "text": [
      "Average charges for southwest: 12346.94, Count: 325\n",
      "Average charges for southeast: 14735.41, Count: 364\n",
      "Average charges for northwest: 12417.58, Count: 325\n",
      "Average charges for northeast: 13406.38, Count: 324\n"
     ]
    }
   ],
   "source": [
    "# Initialize dictionaries to store charges and counts for each region\n",
    "charges_by_region = {'southwest': [], 'southeast': [], 'northwest': [], 'northeast': []}\n",
    "counts_by_region = {'southwest': 0, 'southeast': 0, 'northwest': 0, 'northeast': 0}\n",
    "\n",
    "# Categorize individuals into their respective regions and record charges\n",
    "for person in insurance_data:\n",
    "    region = person['region']\n",
    "    charges = float(person['charges'])\n",
    "    \n",
    "    charges_by_region[region].append(charges)\n",
    "    counts_by_region[region] += 1\n",
    "\n",
    "# Calculate the average charges for each region\n",
    "avg_charges_by_region = {}\n",
    "for region, charges_list in charges_by_region.items():\n",
    "    total_charges = sum(charges_list)\n",
    "    count = counts_by_region[region]\n",
    "    if count != 0:\n",
    "        avg_charges_by_region[region] = round(total_charges / count, 2)\n",
    "    else:\n",
    "        avg_charges_by_region[region] = 0\n",
    "\n",
    "# Print the average charges for each region and the count of persons in each region\n",
    "for region, avg_charges in avg_charges_by_region.items():\n",
    "    print(f\"Average charges for {region}: {avg_charges}, Count: {counts_by_region[region]}\")"
   ]
  },
  {
   "cell_type": "code",
   "execution_count": 26,
   "id": "0790d797-70de-486b-a202-40c3f5c1a6c1",
   "metadata": {},
   "outputs": [
    {
     "name": "stdout",
     "output_type": "stream",
     "text": [
      "Average charges for male smokers: 33042.01\n",
      "Average charges for male non-smokers: 8087.2\n",
      "Average charges for female smokers: 30679.0\n",
      "Average charges for female non-smokers: 8762.3\n"
     ]
    }
   ],
   "source": [
    "# Initialize dictionaries to store charges and counts for each group\n",
    "charges_by_group = {\n",
    "    'male_yes': [], 'male_no': [],\n",
    "    'female_yes': [], 'female_no': []\n",
    "}\n",
    "counts_by_group = {\n",
    "    'male_yes': 0, 'male_no': 0,\n",
    "    'female_yes': 0, 'female_no': 0\n",
    "}\n",
    "\n",
    "# Categorize individuals into groups based on sex and smoking status and record charges\n",
    "for person in insurance_data:\n",
    "    sex = person['sex']\n",
    "    smoker = person['smoker']\n",
    "    charges = float(person['charges'])\n",
    "    \n",
    "    group = f\"{sex}_{smoker}\"\n",
    "    charges_by_group[group].append(charges)\n",
    "    counts_by_group[group] += 1\n",
    "\n",
    "# Calculate the average charges for each group\n",
    "avg_charges_by_group = {}\n",
    "for group, charges_list in charges_by_group.items():\n",
    "    total_charges = sum(charges_list)\n",
    "    count = counts_by_group[group]\n",
    "    if count != 0:\n",
    "        avg_charges_by_group[group] = round(total_charges / count, 2)\n",
    "    else:\n",
    "        avg_charges_by_group[group] = 0\n",
    "\n",
    "# Print the average charges for each group\n",
    "for group, avg_charges in avg_charges_by_group.items():\n",
    "    sex, smoker = group.split('_')\n",
    "    print(f\"Average charges for {sex} {'smokers' if smoker == 'yes' else 'non-smokers'}: {avg_charges}\")"
   ]
  },
  {
   "cell_type": "code",
   "execution_count": 29,
   "id": "9f7d2af7-d0d9-4b7e-8dea-61b632824106",
   "metadata": {
    "scrolled": true
   },
   "outputs": [
    {
     "name": "stdout",
     "output_type": "stream",
     "text": [
      "Average charges for age range 15-24:\n",
      " - female smokers, with 0 children: 24365.79\n",
      " - female smokers, with 1 children: 22919.2\n",
      " - female smokers, with 2 children: 36976.74\n",
      " - female smokers, with 3 children: 26909.52\n",
      " - female non-smokers, with 0 children: 3538.66\n",
      " - female non-smokers, with 1 children: 2607.38\n",
      " - female non-smokers, with 2 children: 9437.64\n",
      " - female non-smokers, with 3 children: 7290.92\n",
      " - female non-smokers, with 4 children: 4561.19\n",
      " - female non-smokers, with 5 children: 4759.21\n",
      " - male smokers, with 0 children: 29779.39\n",
      " - male smokers, with 1 children: 26571.3\n",
      " - male smokers, with 2 children: 30740.41\n",
      " - male smokers, with 3 children: 36827.22\n",
      " - male smokers, with 4 children: 17942.11\n",
      " - male non-smokers, with 0 children: 2574.36\n",
      " - male non-smokers, with 1 children: 4184.34\n",
      " - male non-smokers, with 2 children: 6493.32\n",
      " - male non-smokers, with 3 children: 3663.44\n",
      " - male non-smokers, with 4 children: 17128.43\n",
      " - male non-smokers, with 5 children: 4915.06\n",
      "Average charges for age range 25-34:\n",
      " - female smokers, with 0 children: 31034.7\n",
      " - female smokers, with 1 children: 32584.05\n",
      " - female smokers, with 2 children: 19743.18\n",
      " - female smokers, with 3 children: 25372.93\n",
      " - female non-smokers, with 0 children: 4066.09\n",
      " - female non-smokers, with 1 children: 6203.12\n",
      " - female non-smokers, with 2 children: 5583.32\n",
      " - female non-smokers, with 3 children: 6750.75\n",
      " - female non-smokers, with 4 children: 15190.27\n",
      " - male smokers, with 0 children: 26351.78\n",
      " - male smokers, with 1 children: 31523.07\n",
      " - male smokers, with 2 children: 34149.27\n",
      " - male smokers, with 3 children: 22424.68\n",
      " - male smokers, with 4 children: 21472.48\n",
      " - male non-smokers, with 0 children: 4469.26\n",
      " - male non-smokers, with 1 children: 5719.92\n",
      " - male non-smokers, with 2 children: 7441.11\n",
      " - male non-smokers, with 3 children: 4827.9\n",
      " - male non-smokers, with 4 children: 5147.27\n",
      " - male non-smokers, with 5 children: 6162.99\n",
      "Average charges for age range 35-44:\n",
      " - female smokers, with 0 children: 31828.28\n",
      " - female smokers, with 1 children: 20998.65\n",
      " - female smokers, with 2 children: 31826.07\n",
      " - female smokers, with 3 children: 34194.88\n",
      " - female smokers, with 5 children: 19023.26\n",
      " - female non-smokers, with 0 children: 6187.04\n",
      " - female non-smokers, with 1 children: 7541.07\n",
      " - female non-smokers, with 2 children: 8456.8\n",
      " - female non-smokers, with 3 children: 7715.17\n",
      " - female non-smokers, with 4 children: 11536.32\n",
      " - female non-smokers, with 5 children: 8714.98\n",
      " - male smokers, with 0 children: 25533.65\n",
      " - male smokers, with 1 children: 33625.78\n",
      " - male smokers, with 2 children: 31584.22\n",
      " - male smokers, with 3 children: 36595.66\n",
      " - male smokers, with 4 children: 40182.25\n",
      " - male non-smokers, with 0 children: 7246.92\n",
      " - male non-smokers, with 1 children: 6040.86\n",
      " - male non-smokers, with 2 children: 8543.23\n",
      " - male non-smokers, with 3 children: 7067.66\n",
      " - male non-smokers, with 4 children: 11723.9\n",
      " - male non-smokers, with 5 children: 11850.37\n",
      "Average charges for age range 45-54:\n",
      " - female smokers, with 0 children: 42864.42\n",
      " - female smokers, with 1 children: 30136.03\n",
      " - female smokers, with 2 children: 31281.44\n",
      " - female smokers, with 3 children: 33215.56\n",
      " - female non-smokers, with 0 children: 11180.68\n",
      " - female non-smokers, with 1 children: 11443.28\n",
      " - female non-smokers, with 2 children: 11525.71\n",
      " - female non-smokers, with 3 children: 13015.64\n",
      " - female non-smokers, with 4 children: 11081.35\n",
      " - female non-smokers, with 5 children: 12072.72\n",
      " - male smokers, with 0 children: 36692.29\n",
      " - male smokers, with 1 children: 32315.8\n",
      " - male smokers, with 2 children: 36972.29\n",
      " - male smokers, with 3 children: 36989.89\n",
      " - male non-smokers, with 0 children: 10643.48\n",
      " - male non-smokers, with 1 children: 10136.89\n",
      " - male non-smokers, with 2 children: 12441.49\n",
      " - male non-smokers, with 3 children: 11016.17\n",
      " - male non-smokers, with 4 children: 10888.02\n",
      " - male non-smokers, with 5 children: 9942.92\n",
      "Average charges for age range 55-64:\n",
      " - female smokers, with 0 children: 33903.45\n",
      " - female smokers, with 1 children: 48114.13\n",
      " - female smokers, with 2 children: 47298.18\n",
      " - female smokers, with 3 children: 30942.19\n",
      " - female non-smokers, with 0 children: 13297.09\n",
      " - female non-smokers, with 1 children: 18691.72\n",
      " - female non-smokers, with 2 children: 14852.15\n",
      " - female non-smokers, with 3 children: 14372.67\n",
      " - female non-smokers, with 4 children: 25487.34\n",
      " - male smokers, with 0 children: 40505.82\n",
      " - male smokers, with 1 children: 40005.53\n",
      " - male smokers, with 2 children: 46962.67\n",
      " - male smokers, with 3 children: 41011.21\n",
      " - male non-smokers, with 0 children: 13007.05\n",
      " - male non-smokers, with 1 children: 14256.45\n",
      " - male non-smokers, with 2 children: 13740.68\n",
      " - male non-smokers, with 3 children: 17770.27\n",
      " - male non-smokers, with 4 children: 12949.16\n"
     ]
    }
   ],
   "source": [
    "# Initialize dictionaries to store charges and counts for each group\n",
    "charges_by_group = {}\n",
    "counts_by_group = {}\n",
    "\n",
    "# Categorize individuals into groups based on age range, sex, smoking status, and number of children\n",
    "for person in insurance_data:\n",
    "    age = int(person['age'])\n",
    "    sex = person['sex']\n",
    "    smoker = person['smoker']\n",
    "    children = int(person['children'])\n",
    "    charges = float(person['charges'])\n",
    "    \n",
    "    age_range = ''\n",
    "    if 15 <= age <= 24:\n",
    "        age_range = '15-24'\n",
    "    elif 25 <= age <= 34:\n",
    "        age_range = '25-34'\n",
    "    elif 35 <= age <= 44:\n",
    "        age_range = '35-44'\n",
    "    elif 45 <= age <= 54:\n",
    "        age_range = '45-54'\n",
    "    elif 55 <= age <= 64:\n",
    "        age_range = '55-64'\n",
    "    \n",
    "    group = f\"{age_range}_{sex}_{smoker}_{children}\"\n",
    "    \n",
    "    if group not in charges_by_group:\n",
    "        charges_by_group[group] = []\n",
    "        counts_by_group[group] = 0\n",
    "    \n",
    "    charges_by_group[group].append(charges)\n",
    "    counts_by_group[group] += 1\n",
    "\n",
    "# Calculate the average charges for each group\n",
    "avg_charges_by_group = {}\n",
    "for group, charges_list in charges_by_group.items():\n",
    "    total_charges = sum(charges_list)\n",
    "    count = counts_by_group[group]\n",
    "    if count != 0:\n",
    "        avg_charges_by_group[group] = round(total_charges / count, 2)\n",
    "    else:\n",
    "        avg_charges_by_group[group] = 0\n",
    "\n",
    "# Organize groups by age range\n",
    "age_ranges = ['15-24', '25-34', '35-44', '45-54', '55-64']\n",
    "\n",
    "# Print the average charges for each group by age range, gender, smoking status, and number of children\n",
    "for age_range in age_ranges:\n",
    "    print(f\"Average charges for age range {age_range}:\")\n",
    "    for sex in ['female', 'male']:\n",
    "        for smoker in ['yes', 'no']:\n",
    "            for children in sorted(set(int(group.split('_')[3]) for group in charges_by_group.keys() if group.startswith(f\"{age_range}_{sex}_{smoker}\"))):\n",
    "                for group, avg_charges in avg_charges_by_group.items():\n",
    "                    if group.startswith(f\"{age_range}_{sex}_{smoker}_{children}\"):\n",
    "                        print(f\" - {sex} {'smokers' if smoker == 'yes' else 'non-smokers'}, with {children} children: {avg_charges}\")"
   ]
  },
  {
   "cell_type": "markdown",
   "id": "f8b00ced-ac78-4281-99a9-13033f6e336e",
   "metadata": {},
   "source": [
    "# <<'FINDINGS'>>"
   ]
  },
  {
   "cell_type": "markdown",
   "id": "3ca51628-85bb-47ad-bd12-c54bc201a0f6",
   "metadata": {},
   "source": [
    "#### BIAS IN DATA:"
   ]
  },
  {
   "cell_type": "markdown",
   "id": "9d2d0824-5f03-4c72-bc06-50bbce1e4ae6",
   "metadata": {},
   "source": [
    "The Median age (39.0) is very close to the Average age (39.21), thus no age bias in the data."
   ]
  },
  {
   "cell_type": "markdown",
   "id": "337d062a-9e90-4522-a23d-793d31600afa",
   "metadata": {},
   "source": [
    "The ratio between males and females is 1.02 : 1 for males, this is very close, there is no bias in sex in the data."
   ]
  },
  {
   "cell_type": "markdown",
   "id": "9057e537-8dfe-46fb-81a2-6f56ac3fcb02",
   "metadata": {},
   "source": [
    "The Median BMI (30.4) is only 0.22 away from the Average BMI (30.66), thus no BMI bias in the data."
   ]
  },
  {
   "cell_type": "markdown",
   "id": "b7a4ee84-d1f5-45bb-b627-6f340177fb6a",
   "metadata": {},
   "source": [
    "The ratio of people with 1-5 children to people with no children is 1.33 : 1 for people with 1-5 children, there is bias towards people with no children, as I expected a large ratio for the people with 1-5 children, due to the fact that they have a larger range."
   ]
  },
  {
   "cell_type": "markdown",
   "id": "6b3771fd-7b55-4ac5-ab6d-644b593e46ed",
   "metadata": {},
   "source": [
    "The ratio of non-smokers to smokers is 3.88 to 1 for non-smokers, although this is a good sign for health, the data is biased towards non smokers."
   ]
  },
  {
   "cell_type": "markdown",
   "id": "66c4444a-f883-4086-931a-4187fe1c3573",
   "metadata": {},
   "source": [
    "The ratio between the regoins of Southwest, Southeast, Northwest, Northeast respectively is 0.24:0.27:0.24:0.24, this is close enough, thus there is no regional bias in the data."
   ]
  },
  {
   "cell_type": "markdown",
   "id": "426abf4f-8df8-42d4-b5db-ddbdb6fd5568",
   "metadata": {},
   "source": [
    "#### DERIVED FROM DATA:"
   ]
  },
  {
   "cell_type": "markdown",
   "id": "08d354b6-032e-4a4b-97fb-66a2640cbde0",
   "metadata": {},
   "source": [
    "Averages cost increases steadily over age groups in increments on 10 years."
   ]
  },
  {
   "cell_type": "markdown",
   "id": "723eb335-f250-46f4-931e-69fe1b6b4bb4",
   "metadata": {},
   "source": [
    "Even though BMI doesn't prove your ultimate health, a steady increase in cost with a increase in BMI is observed."
   ]
  },
  {
   "cell_type": "markdown",
   "id": "08caa86c-f9ab-4734-a2e9-596fd9060d83",
   "metadata": {},
   "source": [
    "Costs for males is on average 11.04% higher than that of females."
   ]
  },
  {
   "cell_type": "markdown",
   "id": "b75fabf6-40f5-4dc2-9f2f-5573258f63c0",
   "metadata": {},
   "source": [
    "Amount of children do not play a big roll in the cost."
   ]
  },
  {
   "cell_type": "markdown",
   "id": "8d00d627-b0c3-41a1-9e5d-e76d6783908c",
   "metadata": {},
   "source": [
    "Smoking greatly effects cost price, since on average smokers pay 280% more than non smokers."
   ]
  },
  {
   "cell_type": "markdown",
   "id": "68a2ea72-7b61-4138-b688-b3a78bff3c49",
   "metadata": {},
   "source": [
    "Region does not have a significant effect on the cost price."
   ]
  },
  {
   "cell_type": "markdown",
   "id": "4b9e1637-7019-4d90-8bb3-0a61b2d32f4a",
   "metadata": {},
   "source": [
    "On average Male smokers and non-smokers pay more than Female smokers and non-smokers, this can be attributed to the sex factor."
   ]
  },
  {
   "cell_type": "markdown",
   "id": "8338e376-8d52-47ae-9a78-125aaa97e465",
   "metadata": {},
   "source": [
    "When you look at age, sex, smoking status and children, you observe Males paying more than Females, with a steady increase over the age groups, this indicates, that age, smoking status and amount of children effects both equally, but sex is the determining factor for the difference in cost."
   ]
  },
  {
   "cell_type": "markdown",
   "id": "882e0a9b-ecda-4471-aaf3-c304838d5327",
   "metadata": {},
   "source": [
    "#### Predictions"
   ]
  },
  {
   "cell_type": "markdown",
   "id": "f1749e80-4b6d-4d56-aa10-28a9c5d4502c",
   "metadata": {},
   "source": [
    "The Older you are the more you pay."
   ]
  },
  {
   "cell_type": "markdown",
   "id": "78c1f7e9-e492-415b-b9ae-dc9dc4c4167c",
   "metadata": {},
   "source": [
    "If you are a Male, you pay more than females."
   ]
  },
  {
   "cell_type": "markdown",
   "id": "9f140825-1f4a-4c77-be41-4491c7157319",
   "metadata": {},
   "source": [
    "Smoking will drematically increase your cost price."
   ]
  },
  {
   "cell_type": "markdown",
   "id": "56111f77-1a44-49c4-aa03-35753dc447df",
   "metadata": {},
   "source": [
    "The amount of children you have will effect both genders equally, and does not have that big effect on the cost."
   ]
  },
  {
   "cell_type": "markdown",
   "id": "841d0d0d-da1f-4f7f-a05a-8311102ca1d4",
   "metadata": {},
   "source": [
    "The region you live in, does not have a significant effect."
   ]
  },
  {
   "cell_type": "markdown",
   "id": "7be535ac-728d-4310-aae8-7b5c6b4b46ef",
   "metadata": {},
   "source": [
    "The higher you BMI, the more you pay."
   ]
  },
  {
   "cell_type": "code",
   "execution_count": null,
   "id": "ecf09d20-30bb-4ac4-bc1c-8ff0d5fd9f40",
   "metadata": {},
   "outputs": [],
   "source": []
  }
 ],
 "metadata": {
  "kernelspec": {
   "display_name": "Python 3 (ipykernel)",
   "language": "python",
   "name": "python3"
  },
  "language_info": {
   "codemirror_mode": {
    "name": "ipython",
    "version": 3
   },
   "file_extension": ".py",
   "mimetype": "text/x-python",
   "name": "python",
   "nbconvert_exporter": "python",
   "pygments_lexer": "ipython3",
   "version": "3.11.7"
  }
 },
 "nbformat": 4,
 "nbformat_minor": 5
}
